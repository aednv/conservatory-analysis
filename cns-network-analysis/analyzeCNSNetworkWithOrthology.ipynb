{
 "cells": [
  {
   "cell_type": "markdown",
   "id": "e6d27c95",
   "metadata": {},
   "source": [
    "## Build and analyze CNS Network with Orthology,  July 7-Aug 3, 2022\n",
    "- read in CNS network directed graph with edge weights being BLAST similarity scores.\n",
    "- add CNS node attribute \"species\", add node attribute \"gene\", add edge attribute \"orthologous gene\"\n",
    "\n"
   ]
  },
  {
   "cell_type": "code",
   "execution_count": 1,
   "id": "de812eed",
   "metadata": {},
   "outputs": [],
   "source": [
    "#import libraries\n",
    "import networkx as nx\n",
    "from matplotlib import pyplot as plt\n",
    "import numpy as np\n",
    "import pandas as pd\n",
    "\n",
    "%matplotlib inline"
   ]
  },
  {
   "cell_type": "markdown",
   "id": "a33ac3f5",
   "metadata": {},
   "source": [
    "## 1. Build graph - if you already have a filtered + annotated graph to load skip to step 2.\n",
    "\n",
    "### I wrote a python/shell script (buildGraph.sh, in this folder) that can be used to build the graph as a cluster job. Useful if you have a lot of nodes and it is taking a long time.\n",
    "\n",
    "#### import full unmodified CNS node graph"
   ]
  },
  {
   "cell_type": "code",
   "execution_count": 3,
   "id": "1d10a619",
   "metadata": {},
   "outputs": [
    {
     "name": "stdout",
     "output_type": "stream",
     "text": [
      "CNS nodes: 136505\n",
      "connections: 1532608\n"
     ]
    }
   ],
   "source": [
    "#read in the cns node graph with blast weights from the adjacency list\n",
    "G = nx.read_weighted_edgelist(\"adjacencyList.txt\")\n",
    "print(\"CNS nodes: \" + str(G.order())) #nodes\n",
    "print(\"connections: \" + str(G.size())) #edges"
   ]
  },
  {
   "cell_type": "markdown",
   "id": "321e6bf5",
   "metadata": {},
   "source": [
    "#### filter graph and add attributes"
   ]
  },
  {
   "cell_type": "code",
   "execution_count": 5,
   "id": "e4e04536",
   "metadata": {},
   "outputs": [],
   "source": [
    "#add species attribute to all cns nodes (first 2 letters of GeneID)\n",
    "for n in G.nodes():\n",
    "    G.nodes[n]['species']=n[0:2]\n",
    "    "
   ]
  },
  {
   "cell_type": "code",
   "execution_count": 6,
   "id": "832cce84",
   "metadata": {},
   "outputs": [],
   "source": [
    "#add gene attributes to all cns nodes, gene length based on species\n",
    "for n in G.nodes():\n",
    "    if G.nodes[n]['species'] == 'Zm': #maize\n",
    "        G.nodes[n]['gene'] = n[0:20]\n",
    "    elif G.nodes[n]['species'] == 'Os': #rice\n",
    "        G.nodes[n]['gene'] = n[0:16]\n",
    "    elif G.nodes[n]['species'] == 'Br': #brachy\n",
    "        G.nodes[n]['gene'] = n[0:12]\n",
    "    elif G.nodes[n]['species'] == 'Se': #setaria\n",
    "        G.nodes[n]['gene'] = n[0:14]\n",
    "        "
   ]
  },
  {
   "cell_type": "code",
   "execution_count": null,
   "id": "3368ecb4",
   "metadata": {},
   "outputs": [],
   "source": [
    "#check that it worked, list the gene attribute of maize (Zm) nodes\n",
    "[y['gene'] for x,y in G.nodes(data=True) if y['species']=='Zm']"
   ]
  },
  {
   "cell_type": "code",
   "execution_count": null,
   "id": "18d022b1",
   "metadata": {},
   "outputs": [],
   "source": [
    "#if desired, remove all same species edges. If nodes only have same species edges remove node\n",
    "print(\"original connection number \" + str(G.size()))\n",
    "G_itr = G.adjacency()\n",
    "for node, nbrdict in G_itr:\n",
    "    #if first 3 letters of node label match other node label, remove the edge (First 3 letters relate to species)\n",
    "    keys = nbrdict.keys()\n",
    "    remove_edges = []\n",
    "    for key in keys:\n",
    "        if node[0:3] == key[0:3]:\n",
    "            remove_edges.append(key)\n",
    "    for re in remove_edges:\n",
    "        G.remove_edge(node,re)\n",
    "G.remove_nodes_from(list(nx.isolates(G)))\n",
    "print(\"updated connection number \" + str(G.size()))"
   ]
  },
  {
   "cell_type": "markdown",
   "id": "7f4de39d",
   "metadata": {},
   "source": [
    "#### save graph"
   ]
  },
  {
   "cell_type": "code",
   "execution_count": 27,
   "id": "92a966c1",
   "metadata": {},
   "outputs": [],
   "source": [
    "#this format saves node and edge attributes\n",
    "nx.write_gml(mdg, \"cns_graph.gml\")"
   ]
  },
  {
   "cell_type": "markdown",
   "id": "8b94917c",
   "metadata": {},
   "source": [
    "#### add attributes between orthologous genes in different species\n",
    "for multiple ortholog.csv files, change the path (orthoFile), the refSpecies, and the targetSpecies"
   ]
  },
  {
   "cell_type": "code",
   "execution_count": null,
   "id": "fa6d499b",
   "metadata": {},
   "outputs": [],
   "source": [
    "directory=\"orthologs\" #set otholog.csv directory. Files are generated from conservatory and in conservatory/genomes. Modified the filesnames to add the ref genome to the beginning.\n",
    "import os\n",
    "\n",
    "for filename in os.listdir(directory):\n",
    "    print(\"Current file\", filename)\n",
    "    with open(str(directory+\"/\"+filename), \"r\") as fp: #open ortholog.csv file\n",
    "        numLines = sum(1 for line in fp)\n",
    "        print(numLines)\n",
    "        quarterDone = int(numLines/4)\n",
    "        print(quarterDone)\n",
    "        lineCount = 1\n",
    "    with open(str(directory+\"/\"+filename), \"r\") as fp:\n",
    "        for line in fp:\n",
    "            lineArray = line.split(\",\")\n",
    "            targetGene = str(lineArray[0])\n",
    "            refGene = str(lineArray[1])\n",
    "            #get CNS nodes from graph if they exist\n",
    "            refCNSs = [n for n,atr in G.nodes(data=True) if atr['gene'] == refGene]\n",
    "            targetCNSs = [n for n,atr in G.nodes(data=True) if atr['gene'] == targetGene]\n",
    "            if targetCNSs != [] and refCNSs != []:\n",
    "                for cns_R in refCNSs:\n",
    "                    for cns_T in targetCNSs:\n",
    "                        if G.has_edge(cns_R, cns_T): #check for cns edge\n",
    "                            print(\"Connecting\", cns_R, cns_T)\n",
    "                            G.edges[cns_R, cns_T][\"orthologous\"] = \"True\"\n",
    "            \n",
    "            if lineCount == quarterDone:\n",
    "                print(\"25%\")\n",
    "            if lineCount == quarterDone*2:\n",
    "                print(\"50%\")\n",
    "            if lineCount == quarterDone*3:\n",
    "                print(\"75%\")\n",
    "            if lineCount == numLines:\n",
    "                print(\"100%\")\n",
    "            lineCount+=1\n",
    "    nx.write_gml(G, \"cns_graph_orthologs.gml\") #re-save graph after processing each file\n",
    "        \n"
   ]
  },
  {
   "cell_type": "markdown",
   "id": "b2e2dbe3",
   "metadata": {},
   "source": [
    "## 2. Load saved graph"
   ]
  },
  {
   "cell_type": "code",
   "execution_count": 2,
   "id": "7c3bbac1",
   "metadata": {},
   "outputs": [
    {
     "name": "stdout",
     "output_type": "stream",
     "text": [
      "CNS nodes: 136505\n",
      "connections: 1532608\n"
     ]
    }
   ],
   "source": [
    "#this might take a few mins to load. This is the annotated graph generated with the above code or the buildGraph.sh script.\n",
    "G = nx.read_gml(\"cns_graph_orthologs.gml\")\n",
    "print(\"CNS nodes: \" + str(G.order())) #nodes\n",
    "print(\"connections: \" + str(G.size())) #edges"
   ]
  },
  {
   "cell_type": "code",
   "execution_count": 6,
   "id": "ae744046",
   "metadata": {},
   "outputs": [
    {
     "data": {
      "text/plain": [
       "17300"
      ]
     },
     "execution_count": 6,
     "metadata": {},
     "output_type": "execute_result"
    }
   ],
   "source": [
    "#how many ortholog to ortholog CNS blast hits are there?\n",
    "len(G.edges(data=\"orthologous\"))"
   ]
  },
  {
   "cell_type": "markdown",
   "id": "4d7f9da3",
   "metadata": {},
   "source": [
    "#### filter to keep only ortholog edge connections"
   ]
  },
  {
   "cell_type": "code",
   "execution_count": null,
   "id": "abb99c95",
   "metadata": {},
   "outputs": [],
   "source": [
    "remove_edge_one = []\n",
    "remove_edge_two = []\n",
    "\n",
    "print(\"Original CNS nodes: \" + str(G.order())) #nodes\n",
    "print(\"Original connections: \" + str(G.size())) #edges\n",
    "\n",
    "for u, v, ortho in G.edges(data=\"orthologous\"):\n",
    "    if ortho is None:\n",
    "        remove_edge_one.append(u)\n",
    "        remove_edge_two.append(v)\n",
    "#print(len(remove_edge_one))\n",
    "#print(len(remove_edge_two))\n",
    "\n",
    "x=0\n",
    "while x < len(remove_edge_one):\n",
    "    G.remove_edge(remove_edge_one[x],remove_edge_two[x])\n",
    "    x+=1\n",
    "    \n",
    "\n",
    "print(\"Updated CNS nodes: \" + str(G.order())) #nodes\n",
    "print(\"Updated connections: \" + str(G.size())) #edges"
   ]
  },
  {
   "cell_type": "markdown",
   "id": "bc378207",
   "metadata": {},
   "source": [
    "## 3. Analyze graph"
   ]
  },
  {
   "cell_type": "code",
   "execution_count": 89,
   "id": "3f3c9f29",
   "metadata": {},
   "outputs": [
    {
     "name": "stdout",
     "output_type": "stream",
     "text": [
      "Sevir.3G045500_2242_2597, Connections: 1\n",
      "Connected to: {'Sevir.3G045400_-2847_-2471': {'weight': 151.0}}\n",
      "\n",
      "Sevir.3G045500_2143_2203, Connections: 1\n",
      "Connected to: {'Sevir.3G045400_-2943_-2876': {'weight': 884.0}}\n",
      "\n",
      "Sevir.3G045500_1645_1807, Connections: 2\n",
      "Connected to: {'Osat.015637998.1_-4602_-4552': {'weight': 1610.0}, 'Sevir.3G045400_-3449_-3231': {'weight': 331.0}}\n",
      "\n",
      "Sevir.3G045500_968_1019, Connections: 1\n",
      "Connected to: {'Sevir.3G045400_-4120_-4068': {'weight': 1161.0}}\n",
      "\n",
      "Sevir.3G045500_8_158, Connections: 1\n",
      "Connected to: {'Sevir.3G045400_-5078_-4844': {'weight': 358.0}}\n",
      "\n",
      "Sevir.3G045500_-335_-91, Connections: 3\n",
      "Connected to: {'Osat.015639330.1_-297_-188': {'weight': 793.0, 'orthologous': 'True'}, 'Zm00001eb265610_P001_-300_-98': {'weight': 400.0, 'orthologous': 'True'}, 'Zm00001eb355240_P002_-318_-93': {'weight': 418.0, 'orthologous': 'True'}}\n",
      "\n",
      "Sevir.3G045500_-712_-412, Connections: 2\n",
      "Connected to: {'Zm00001eb355240_P002_-689_-581': {'weight': 869.0, 'orthologous': 'True'}, 'Zm00001eb265610_P001_-678_-582': {'weight': 925.0, 'orthologous': 'True'}}\n",
      "\n",
      "Sevir.3G045500_-6773_-6709, Connections: 37\n",
      "Connected to: {'Sevir.9G496400_-3631_-3391': {'weight': 1000.0}, 'Sevir.9G496300_-5044_-4880': {'weight': 1000.0}, 'Sevir.2G403700_-1234_-1026': {'weight': 1049.0}, 'Sevir.2G071500_-5525_-5290': {'weight': 943.0}, 'Sevir.5G432400_-4501_-4351': {'weight': 900.0}, 'Sevir.3G135700_-2483_-2282': {'weight': 943.0}, 'Sevir.9G267100_-34451_-34184': {'weight': 1000.0}, 'Sevir.7G005800_-3392_-3123': {'weight': 1049.0}, 'Sevir.6G053300_-12585_-12420': {'weight': 1113.0}, 'Sevir.5G320400_-2053_-1853': {'weight': 1049.0}, 'Sevir.3G299000_-9050_-8891': {'weight': 1049.0}, 'Sevir.2G448700_-4132_-3967': {'weight': 1069.0}, 'Sevir.9G456100_-906_-756': {'weight': 1333.0}, 'Sevir.9G455600_-5304_-5245': {'weight': 925.0}, 'Sevir.9G455500_-9095_-9036': {'weight': 943.0}, 'Sevir.9G420900_-5839_-5661': {'weight': 1000.0}, 'Sevir.9G112700_-2736_-2667': {'weight': 925.0}, 'Sevir.1G287700_-606_-368': {'weight': 1000.0}, 'Sevir.3G187700_-1309_-1078': {'weight': 1000.0}, 'Sevir.3G187600_-3724_-3490': {'weight': 1000.0}, 'Sevir.5G071800_-3822_-3698': {'weight': 925.0}, 'Sevir.3G378500_-19829_-19637': {'weight': 1029.0}, 'Sevir.3G114300_-3816_-3657': {'weight': 884.0}, 'Sevir.3G046600_-998_-930': {'weight': 884.0}, 'Sevir.1G316200_-5537_-5321': {'weight': 1113.0}, 'Sevir.5G293100_-6148_-6093': {'weight': 1113.0}, 'Sevir.3G031600_-1914_-1737': {'weight': 925.0}, 'Sevir.4G252900_-3970_-3751': {'weight': 925.0}, 'Sevir.1G217500_-1181_-996': {'weight': 925.0}, 'Sevir.5G314000_-4203_-4027': {'weight': 1113.0}, 'Sevir.6G200600_-5673_-5588': {'weight': 925.0}, 'Sevir.5G247500_-6122_-5969': {'weight': 1161.0}, 'Sevir.3G114200_-18400_-18304': {'weight': 884.0}, 'Sevir.5G287300_-935_-815': {'weight': 925.0}, 'Sevir.2G217800_-2287_-2143': {'weight': 1187.0}, 'Sevir.5G116300_-10704_-10587': {'weight': 925.0}, 'Sevir.7G244500_-14264_-14206': {'weight': 1029.0}}\n",
      "\n",
      "Sevir.3G045500_-6870_-6804, Connections: 34\n",
      "Connected to: {'Sevir.9G483800_-5560_-5373': {'weight': 1113.0}, 'Sevir.9G496400_-3631_-3391': {'weight': 1049.0}, 'Sevir.9G496300_-5044_-4880': {'weight': 1049.0}, 'Sevir.2G071500_-5525_-5290': {'weight': 1049.0}, 'Sevir.5G292300_-7041_-6880': {'weight': 1187.0}, 'Sevir.9G253300_-2001_-1778': {'weight': 900.0}, 'Sevir.3G135700_-2483_-2282': {'weight': 1049.0}, 'Sevir.9G267100_-34451_-34184': {'weight': 1049.0}, 'Sevir.5G387700_-10159_-9972': {'weight': 1049.0}, 'Sevir.4G055200_-12595_-12443': {'weight': 1161.0}, 'Sevir.3G299000_-9050_-8891': {'weight': 961.0}, 'Sevir.9G322900_-11784_-11626': {'weight': 1187.0}, 'Sevir.3G029000_-11892_-11623': {'weight': 1113.0}, 'Sevir.1G287700_-606_-368': {'weight': 1049.0}, 'Sevir.1G066100_-13549_-13343': {'weight': 900.0}, 'Sevir.9G374900_-10023_-9846': {'weight': 854.0}, 'Sevir.5G157000_-22803_-22590': {'weight': 900.0}, 'Sevir.9G341800_-3676_-3513': {'weight': 900.0}, 'Sevir.9G112700_-2832_-2766': {'weight': 909.0}, 'Sevir.6G192200_-4594_-4400': {'weight': 900.0}, 'Sevir.6G162300_-23682_-23564': {'weight': 900.0}, 'Sevir.5G347100_-1015_-907': {'weight': 854.0}, 'Sevir.5G204700_-1622_-1543': {'weight': 900.0}, 'Sevir.4G082900_-3012_-2947': {'weight': 869.0}, 'Sevir.3G028900_-13020_-12849': {'weight': 1113.0}, 'Sevir.1G060000_-623_-491': {'weight': 900.0}, 'Sevir.9G452700_-2825_-2686': {'weight': 900.0}, 'Sevir.6G113500_-1263_-1079': {'weight': 900.0}, 'Sevir.2G071500_-5747_-5592': {'weight': 900.0}, 'Sevir.5G321600_-2346_-2126': {'weight': 900.0}, 'Sevir.1G273200_-5077_-4868': {'weight': 900.0}, 'Sevir.9G130400_-6857_-6693': {'weight': 900.0}, 'Sevir.5G181000_-1873_-1804': {'weight': 900.0}, 'Sevir.3G355700_-2830_-2717': {'weight': 900.0}}\n",
      "\n",
      "9 CNS found for Sevir.3G045500\n"
     ]
    }
   ],
   "source": [
    "#Look up the CNSs and connections associated with favorite gene\n",
    "\n",
    "myGeneID = \"Sevir.3G045500\"#\"Zm00001eb355240 -ZmRap2\"Sevir.2G407600 #setaria gt1 = Sevir.9G508000, setaria vrs1 = Sevir.2G379700, setaria ra3 = Sevir.2G407600, setaria tb1 = \"Sevir.9G122200\"\n",
    "#Sevir.3G045500_-335_-91Zm00001eb265610_P001_-300_-98\n",
    "cnsIDs = []\n",
    "total_count = 0\n",
    "\n",
    "def lines_that_contain(string, fp):\n",
    "    return [line for line in fp if string in line]\n",
    "\n",
    "#look up myGeneID in the combinedCNS.csv, and find all of the CNSs for that gene.\n",
    "with open(\"combinedCNS.csv\", \"r\") as fp:\n",
    "    for line in lines_that_contain(myGeneID, fp):\n",
    "        lineArray = line.split(\",\")\n",
    "        cnsID = str(lineArray[0]) + \"_\" + str(lineArray[1]) + \"_\" + str(lineArray[2]) #convert CNS into cnsID\n",
    "        if (G.has_node(cnsID)):\n",
    "            print(cnsID + \", Connections: \" + str(G.degree[cnsID]))\n",
    "            print(\"Connected to: \" + str(G.adj[cnsID]) + \"\\n\")\n",
    "            cnsIDs.append(cnsID)\n",
    "        total_count += 1\n",
    "\n",
    "print(str(len(cnsIDs)) + \" CNS found for \" + str(myGeneID))\n"
   ]
  },
  {
   "cell_type": "code",
   "execution_count": null,
   "id": "da685d25",
   "metadata": {},
   "outputs": [],
   "source": [
    "#Can also look CNSs up this way, via the \"gene\" node attribute\n",
    "print(\"Connections for\", myGeneID)\n",
    "[[x,mdg.adj[x]] for x,y in mdg.nodes(data=True) if y['gene'] == myGeneID]"
   ]
  },
  {
   "cell_type": "code",
   "execution_count": 190,
   "id": "7bfe1462",
   "metadata": {},
   "outputs": [],
   "source": [
    "#subset the graph for cnsID\n",
    "g = nx.ego_graph(G, \"Sevir.7G095500_1110_1184\", radius=5)"
   ]
  },
  {
   "cell_type": "code",
   "execution_count": 191,
   "id": "66b465b4",
   "metadata": {},
   "outputs": [
    {
     "data": {
      "image/png": "[encoded data removed]",
      "text/plain": [
       "<Figure size 1152x576 with 2 Axes>"
      ]
     },
     "metadata": {},
     "output_type": "display_data"
    }
   ],
   "source": [
    "#center node\n",
    "centerNode = \"Sevir.7G095500_1110_1184\"\n",
    "\n",
    "color_map = [] #assign a different color to CNS nodes from different species\n",
    "for node in g:\n",
    "    #if node == centerNode:\n",
    "        #color_map.append('mediumslateblue') #center node is purple\n",
    "    if node[0:3] == \"Bra\": #Brachypodium\n",
    "        color_map.append('cornflowerblue')\n",
    "    elif node[0:3] == \"Sev\": #Setaria\n",
    "        color_map.append('mediumaquamarine')\n",
    "    elif node[0:3] == \"Osa\": #Rice\n",
    "        color_map.append('gold')\n",
    "    elif node[0:3] == \"Zm0\": #maize\n",
    "        color_map.append('salmon')\n",
    "\n",
    "weightEdges, weight = zip(*nx.get_edge_attributes(g,'weight').items())\n",
    "\n",
    "fig = plt.figure(centerNode, figsize=(16,8)) #Bradi1g20520 ribonuclease\n",
    "fig.suptitle(centerNode, fontsize=16)\n",
    "for edge in g.edges(data=True): edge[2]['label'] = edge[2]['weight']\n",
    "pos = nx.spring_layout(g, weight='weight', k=12)\n",
    "edge_labels= nx.get_edge_attributes(g, 'weight')\n",
    "cmap=plt.cm.Blues_r\n",
    "\n",
    "nx.draw(g, pos, arrows=True, arrowsize=20, node_color=color_map,node_size=3000,with_labels=True,connectionstyle='arc3, rad = 0.1',edge_color=weight, width =4, edge_cmap = cmap,font_size=8)\n",
    "\n",
    "edge_labels2=nx.get_edge_attributes(g,'orthologous')\n",
    "for x in edge_labels2:\n",
    "    edge_labels2[x]=\"orthologous\"\n",
    "nx.draw_networkx_edge_labels(g, pos,edge_labels=edge_labels2)\n",
    "nx.draw_networkx_edge_labels(g, pos,edge_labels=edge_labels,label_pos=0.35)\n",
    "\n",
    "vmin = min(weight)\n",
    "vmax = max(weight)\n",
    "sm = plt.cm.ScalarMappable(cmap=cmap, norm=plt.Normalize(vmin = vmax, vmax=vmin))\n",
    "sm._A = []\n",
    "plt.colorbar(sm, label=\"BLAST similarity (lower number = higher score)\")\n",
    "plt.show()"
   ]
  },
  {
   "cell_type": "code",
   "execution_count": null,
   "id": "3ae7dbc9",
   "metadata": {},
   "outputs": [],
   "source": [
    "#8/1/2022\n",
    "#find the most highly conserved CNS networks with the max conserved species"
   ]
  },
  {
   "cell_type": "code",
   "execution_count": 7,
   "id": "14ad7750",
   "metadata": {},
   "outputs": [],
   "source": [
    "#for all nodes in an ego graph centered around a specific CNS, see if there are at least 4 unique species in the cluster.\n",
    "\n",
    "#speciesNodes = [n for n in G if n[0:2] !=\"Zm\" ] #uncomment to check non-maize nodes only\n",
    "\n",
    "import collections as collections\n",
    "import random\n",
    "\n",
    "conservedPaths = collections.defaultdict(list)\n",
    "total_species = 4\n",
    "\n",
    "def uniqueSpeciesInGraph(subGraph, numSpecies):\n",
    "    temp_list=[]\n",
    "    for n in subGraph:\n",
    "        temp_list.append(n[0:2])\n",
    "    return len(np.unique(temp_list)) == numSpecies\n",
    "\n",
    "for n in G:\n",
    "    g = nx.ego_graph(G, n, radius=5)\n",
    "    if uniqueSpeciesInGraph(g, total_species):\n",
    "        conservedPaths[n].append(total_species)"
   ]
  },
  {
   "cell_type": "code",
   "execution_count": 8,
   "id": "4a7fd50b",
   "metadata": {},
   "outputs": [
    {
     "data": {
      "text/plain": [
       "4691"
      ]
     },
     "execution_count": 8,
     "metadata": {},
     "output_type": "execute_result"
    }
   ],
   "source": [
    "len(conservedPaths)"
   ]
  }
 ],
 "metadata": {
  "kernelspec": {
   "display_name": "Python 3 (ipykernel)",
   "language": "python",
   "name": "python3"
  },
  "language_info": {
   "codemirror_mode": {
    "name": "ipython",
    "version": 3
   },
   "file_extension": ".py",
   "mimetype": "text/x-python",
   "name": "python",
   "nbconvert_exporter": "python",
   "pygments_lexer": "ipython3",
   "version": "3.9.12"
  }
 },
 "nbformat": 4,
 "nbformat_minor": 5
}
