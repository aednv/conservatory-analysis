{
 "cells": [
  {
   "cell_type": "markdown",
   "metadata": {},
   "source": [
    "# CNS Conservatory Tree generation"
   ]
  },
  {
   "cell_type": "markdown",
   "metadata": {},
   "source": [
    "## STEP 1: Generate separate files for every unique ortholog in list"
   ]
  },
  {
   "cell_type": "code",
   "execution_count": null,
   "metadata": {},
   "outputs": [],
   "source": [
    "import pandas as pd\n",
    "import glob\n",
    "import os\n",
    "# set family name\n",
    "family = \"Malvaceae\"\n",
    "os.chdir(family) #this navigates the directory to the family folder\n",
    "!ls # list folder contents"
   ]
  },
  {
   "cell_type": "code",
   "execution_count": null,
   "metadata": {},
   "outputs": [],
   "source": [
    "df = pd.read_csv(family + '_CRE_inall_unique.csv') # import csv with pandas and display\n",
    "df"
   ]
  },
  {
   "cell_type": "code",
   "execution_count": null,
   "metadata": {},
   "outputs": [],
   "source": [
    "df = df[[\"RefGeneID\", \"SpeciesGeneId\", \"uniqueSpecies\"]] # just keep relevant columns\n",
    "df"
   ]
  },
  {
   "cell_type": "code",
   "execution_count": null,
   "metadata": {},
   "outputs": [],
   "source": [
    "df = df.pivot(index='RefGeneID', columns='uniqueSpecies', values='SpeciesGeneId')\n",
    "df"
   ]
  },
  {
   "cell_type": "code",
   "execution_count": null,
   "metadata": {},
   "outputs": [],
   "source": [
    "df.to_csv('Family_gene_table.csv') #write new table to csv\n",
    "!ls # list dir contents"
   ]
  },
  {
   "cell_type": "code",
   "execution_count": null,
   "metadata": {},
   "outputs": [],
   "source": [
    "# split Family_gene_table.csv into separate files - one file for each gene in the table.\n",
    "!split -l 1 -a 3 Family_gene_table.csv locus_ "
   ]
  },
  {
   "cell_type": "code",
   "execution_count": null,
   "metadata": {},
   "outputs": [],
   "source": [
    "!rm locus_aaa #remove the txt file created from the header"
   ]
  },
  {
   "cell_type": "code",
   "execution_count": null,
   "metadata": {},
   "outputs": [],
   "source": [
    "# check that the number of files matches the number of genes. Pandas does not count the header as a row in the dataframe.\n",
    "if (len(df) != len(glob.glob(\"locus_*\"))):\n",
    "    print(\"Problem: csv rownumber and generated file number do not match. \", len(df), \", \", len(glob.glob(\"locus_*\")))\n",
    "else:\n",
    "    print(\"Same number: \", len(df), \", \", len(glob.glob(\"locus_*\")))"
   ]
  },
  {
   "cell_type": "code",
   "execution_count": null,
   "metadata": {},
   "outputs": [],
   "source": [
    "# move all files to a new directory - 'LocusLists' within family folder\n",
    "!mkdir LocusLists\n",
    "!mv locus_* LocusLists"
   ]
  },
  {
   "cell_type": "code",
   "execution_count": null,
   "metadata": {},
   "outputs": [],
   "source": [
    "#change directories to LocusLists and check\n",
    "os.chdir('LocusLists')\n",
    "!ls"
   ]
  },
  {
   "cell_type": "code",
   "execution_count": null,
   "metadata": {},
   "outputs": [],
   "source": [
    "# Rename all the resulting gene files with a number and a .txt extension\n",
    "!n=1;\n",
    "!for f in *; do mv \"$f\" \"locus_$((n++)).txt\"; done\n",
    "!ls"
   ]
  },
  {
   "cell_type": "code",
   "execution_count": null,
   "metadata": {},
   "outputs": [],
   "source": [
    "# each file needs commas replaced with /n, \" characters removed, and > added to the beginning of every line\n",
    "!for file in *.txt; do sed 's/,/\\n/g' \"$file\" > \"$file.1\"; sed 's/^/\\>/' \"$file.1\" > \"$file.2\"; sed 's/^M//g' \"$file.2\" > \"$file.3\" ; done\n",
    "\n",
    "# get rid of backup files\n",
    "!rm *.txt\n",
    "!rm *.txt.1\n",
    "!rm *.txt.2\n",
    "\n",
    "# remove .3 extension on final file\n",
    "!for file in *.txt.3; do mv -- \"$file\" \"${file%.txt.3}.txt\"; done\n",
    "\n",
    "# check that every file has the right number of taxa (refer to species list)\n",
    "!grep -c -F \">\" *.txt > taxon_counts.txt"
   ]
  },
  {
   "cell_type": "code",
   "execution_count": null,
   "metadata": {},
   "outputs": [],
   "source": [
    "# optional: sometimes adding the \">\" at the beginning of each txt file causes no match to protein library. Removed for Fabaceae.\n",
    "!for file in *.txt; do sed -i 's/[>]//g' $file; done"
   ]
  },
  {
   "cell_type": "code",
   "execution_count": null,
   "metadata": {},
   "outputs": [],
   "source": [
    "# check that everything looks good by looking at some random files and checking counts\n",
    "!cat locus_1.txt\n",
    "!cat locus_888.txt\n",
    "\n",
    "!cat taxon_counts.txt"
   ]
  },
  {
   "cell_type": "code",
   "execution_count": null,
   "metadata": {},
   "outputs": [],
   "source": [
    "#move files to peptide library folder\n",
    "#!mkdir ../Rosaceae_PeptideLibraries\n",
    "!cp locus_* ../Malvaceae_PeptideLibraries"
   ]
  },
  {
   "cell_type": "markdown",
   "metadata": {},
   "source": [
    "## STEP 2: Search for all loci in peptide fasta files"
   ]
  },
  {
   "cell_type": "markdown",
   "metadata": {},
   "source": [
    "### Transferring files directly from the Marlin server to the UMass cluster  \n",
    "\n",
    "* Step 1: On the UMass cluster terminal, connect to Marlin using sftp and navigate to peptide folder\n",
    "\n",
    "`sftp username@marlin.bio.umass.edu`  \n",
    "`cd ../../../data/bartlett/Conservatory/peptides`  \n",
    "`ls` to list all family folders  \n",
    "`cd Fabaceae` #example folder with peptide files on Marlin  \n",
    "\n",
    "* Step 2: Set the local directory where you want to download the files using the lcd command  \n",
    "\n",
    "note: lcd works exactly like cd. If you are unsure where you are in your local directory, you can us lls, which works the same as ls.  \n",
    "`lcd CNS/Fabaceae/Fabaceae_PeptideLibraries` #example local destination folder on UMass cluster\n",
    "\n",
    "* Step 3: Copy everything over using mget\n",
    "\n",
    "`mget *` #transfers over each file in the directory\n"
   ]
  },
  {
   "cell_type": "code",
   "execution_count": null,
   "metadata": {},
   "outputs": [],
   "source": [
    "# change directory to peptide library\n",
    "os.chdir('../Malvaceae_PeptideLibraries')\n",
    "!ls\n",
    "#os.chdir(family + \"_PeptideLibraries\")"
   ]
  },
  {
   "cell_type": "code",
   "execution_count": null,
   "metadata": {},
   "outputs": [],
   "source": [
    "# convert fasta files to have all amino acids on 1 line\n",
    "!ls\n",
    "!for f in *.fasta; do dos2unix $f; done\n",
    "!for f in *.fasta; do awk '/^>/ {printf(\"\\n%s\\n\",$0);next; } { printf(\"%s\",$0);} END {printf(\"\\n\");}' $f > $f.fullfile.1line.fa; done\n"
   ]
  },
  {
   "cell_type": "code",
   "execution_count": null,
   "metadata": {},
   "outputs": [],
   "source": [
    "# check that it worked\n",
    "!ls\n",
    "!head Bceiba.fixed.proteins.fasta\n",
    "!head Bceiba.fixed.proteins.fasta.fullfile.1line.fa"
   ]
  },
  {
   "cell_type": "code",
   "execution_count": null,
   "metadata": {},
   "outputs": [],
   "source": [
    "#removed -w for whole match\n",
    "#for each locus text file, match the gene name to the protein sequence in the fasta file. Copy the ammino acids over.\n",
    "!for f in *.txt; do grep -A 1 -m 1 -f $f -h *.fa > $f.fasta; done"
   ]
  },
  {
   "cell_type": "code",
   "execution_count": null,
   "metadata": {},
   "outputs": [],
   "source": [
    "#Identify genes with correct number of matches and copy good loci to a new folder. Change \"target\" variable number.\n",
    "os.mkdir(\"GoodLoci\")"
   ]
  },
  {
   "cell_type": "code",
   "execution_count": null,
   "metadata": {},
   "outputs": [],
   "source": [
    "%%script bash\n",
    "    target=20\n",
    "    allfiles=$(ls *.txt.fasta | wc -l)\n",
    "    wrong=0\n",
    "    echo \"Total files: $allfiles\"\n",
    "    for f in *.txt.fasta\n",
    "    do\n",
    "        count=$(grep -o '>' $f | wc -l)\n",
    "        if [ $count != $target ]\n",
    "        then\n",
    "            wrong=$((wrong + 1))\n",
    "        else\n",
    "        cp $f GoodLoci\n",
    "        fi\n",
    "    done\n",
    "echo \"Wrong: $wrong\"\n",
    "echo \"Good with $target matches: $((allfiles - wrong))\""
   ]
  },
  {
   "cell_type": "code",
   "execution_count": null,
   "metadata": {},
   "outputs": [],
   "source": [
    "#os.chdir('Malvaceae')\n",
    "!mkdir LociForAlignment\n",
    "!ls"
   ]
  },
  {
   "cell_type": "code",
   "execution_count": null,
   "metadata": {},
   "outputs": [],
   "source": [
    "os.chdir(\"Malvaceae_PeptideLibraries/GoodLoci\")\n",
    "!mv *.txt.fasta ../../LociForAlignment/"
   ]
  },
  {
   "cell_type": "code",
   "execution_count": null,
   "metadata": {},
   "outputs": [],
   "source": [
    "os.chdir('../../LociForAlignment')\n",
    "!ls"
   ]
  },
  {
   "cell_type": "code",
   "execution_count": null,
   "metadata": {},
   "outputs": [],
   "source": [
    "#remove '--' marks from grep\n",
    "!for file in *; do sed -i 's/--//g' $file; done"
   ]
  },
  {
   "cell_type": "code",
   "execution_count": null,
   "metadata": {},
   "outputs": [],
   "source": [
    "#check that it worked (no '--')\n",
    "!cat locus_1.txt.fasta"
   ]
  },
  {
   "cell_type": "markdown",
   "metadata": {},
   "source": [
    "## STEP 3: align using MAFFT & replace gene names with species names"
   ]
  },
  {
   "cell_type": "markdown",
   "metadata": {},
   "source": [
    "#### Step 1: Start a new interactive session from the terminal. Make sure you are in the LociForAlignment directory.\n",
    "\n",
    "`bsub -Is -q interactive -W 8:00 -n 1 -R \"span[hosts=1]\" bash`\n",
    "\n",
    "#### Step 2: Run mafft on all fasta files in the LociForAlignment directory\n",
    "\n",
    "`module load MAFFT/7.313`\n",
    "\n",
    "`for f in *.fasta; do mafft-linsi $f > $f.aln; done`"
   ]
  },
  {
   "cell_type": "markdown",
   "metadata": {},
   "source": [
    "### While MAFFT is running, identify and prep gene ids for species name replacement"
   ]
  },
  {
   "cell_type": "code",
   "execution_count": null,
   "metadata": {},
   "outputs": [],
   "source": [
    "#go to species family directory\n",
    "os.chdir(\"../\")\n",
    "!ls"
   ]
  },
  {
   "cell_type": "code",
   "execution_count": null,
   "metadata": {},
   "outputs": [],
   "source": [
    "df = pd.read_csv(\"Family_gene_table.csv\")\n",
    "df"
   ]
  },
  {
   "cell_type": "code",
   "execution_count": null,
   "metadata": {},
   "outputs": [],
   "source": [
    "#make a new dataframe 'newdf' to store geneids/nicknames\n",
    "df = pd.read_csv(\"Family_gene_table.csv\")\n",
    "data = df.columns.values.tolist()\n",
    "newdf = pd.DataFrame(data)\n",
    "newdf.rename(columns={newdf.columns[0]: \"Genome name\"}, inplace=True)\n",
    "newdf[\"nicknames\"] = \"\"\n",
    "newdf"
   ]
  },
  {
   "cell_type": "code",
   "execution_count": null,
   "metadata": {},
   "outputs": [],
   "source": [
    "#for each species column in the unique_species.csv, extract the first 4 characters.\n",
    "#important note: if three characters is not enough to have a unique identifier for each species, increase to 5.\n",
    "\n",
    "nickname_data = []\n",
    "for column in df:\n",
    "    df[column] = df[column].astype('string').str[0:4]\n",
    "    df[column] = df[column].astype('category')\n",
    "    nickname = df[column].cat.categories.values.tolist()\n",
    "    nickname_data.append(nickname)\n",
    "print(nickname_data)"
   ]
  },
  {
   "cell_type": "code",
   "execution_count": null,
   "metadata": {},
   "outputs": [],
   "source": [
    "#check that no values are duplicated, all should be false\n",
    "check_dup_df = pd.DataFrame(nickname_data)\n",
    "check_dup_df.duplicated()"
   ]
  },
  {
   "cell_type": "code",
   "execution_count": null,
   "metadata": {},
   "outputs": [],
   "source": [
    "newdf[\"nicknames\"] = nickname_data\n",
    "newdf"
   ]
  },
  {
   "cell_type": "code",
   "execution_count": null,
   "metadata": {},
   "outputs": [],
   "source": [
    "newdf.to_csv(\"uniqueSpeciesNicknames.csv\")\n",
    "\n",
    "#delete header from csv file\n",
    "!sed -i -e 1,1d uniqueSpeciesNicknames.csv\n",
    "\n",
    "#check that the four letter geneid doesnt match anything but itself or its species in the final csv"
   ]
  },
  {
   "cell_type": "code",
   "execution_count": null,
   "metadata": {},
   "outputs": [],
   "source": [
    "#remove extra characters\n",
    "!sed -i 's/\"//g' uniqueSpeciesNicknames.csv\n",
    "!sed -i 's/\\[//g' uniqueSpeciesNicknames.csv\n",
    "!sed -i 's/\\]//g' uniqueSpeciesNicknames.csv\n",
    "!sed -i \"s/'//g\" uniqueSpeciesNicknames.csv\n",
    "!sed -i \"s/ //g\" uniqueSpeciesNicknames.csv"
   ]
  },
  {
   "cell_type": "code",
   "execution_count": null,
   "metadata": {},
   "outputs": [],
   "source": [
    "%%script bash\n",
    "    cat uniqueSpeciesNicknames.csv | while read line;\n",
    "    do\n",
    "        #line=\"$(sed -n '10p' uniqueSpeciesNicknames.csv)\"\n",
    "        #echo \"The line is: $line\"\n",
    "        mapfile -t my_array < <( for i in ${line//,/ }; do echo \"$i\"; done )\n",
    "        #echo \"The array is: ${my_array[@]}\"\n",
    "        echo \"Genome species name is: ${my_array[1]}\"\n",
    "        length=\"${#my_array[@]}\"\n",
    "        echo \"GeneID identifiers are:\"\n",
    "        for (( j=2; j<length; j++ )); do echo \"${my_array[$j]}\"; done\n",
    "    done"
   ]
  },
  {
   "cell_type": "markdown",
   "metadata": {},
   "source": [
    "### When MAFFT is finished, replace gene ids"
   ]
  },
  {
   "cell_type": "code",
   "execution_count": null,
   "metadata": {},
   "outputs": [],
   "source": [
    "#check that it worked (should see .aln files)\n",
    "os.chdir(\"LociForAlignment\")\n",
    "!ls"
   ]
  },
  {
   "cell_type": "code",
   "execution_count": null,
   "metadata": {},
   "outputs": [],
   "source": [
    "#check .aln file\n",
    "!cat locus_3.txt.fasta.aln"
   ]
  },
  {
   "cell_type": "code",
   "execution_count": null,
   "metadata": {},
   "outputs": [],
   "source": [
    "#make a new Test directory to modify species names\n",
    "os.mkdir('../Test')\n",
    "#copy .aln files over\n",
    "!cp *.aln ../Test/"
   ]
  },
  {
   "cell_type": "code",
   "execution_count": null,
   "metadata": {},
   "outputs": [],
   "source": [
    "os.chdir('Test')\n",
    "!ls"
   ]
  },
  {
   "cell_type": "code",
   "execution_count": null,
   "metadata": {},
   "outputs": [],
   "source": [
    "#make sure you are in the right directory!\n",
    "!cat ../uniqueSpeciesNicknames.csv"
   ]
  },
  {
   "cell_type": "code",
   "execution_count": null,
   "metadata": {},
   "outputs": [],
   "source": [
    "#replace all geneids with species names in the Test folder\n",
    "!ls"
   ]
  },
  {
   "cell_type": "code",
   "execution_count": null,
   "metadata": {},
   "outputs": [],
   "source": [
    "#%%script bash\n",
    "#    line=\"$(sed -n '4p' ../uniqueSpeciesNicknames.csv)\"\n",
    "#    echo \"$line\"\n",
    "#    mapfile -t my_array < <( for i in ${line//,/ }; do echo \"$i\"; done )\n",
    "#    geneid=\"${my_array[2]}\"\n",
    "#    name=\"${my_array[1]}\"\n",
    "#    echo \"Replacing $geneid with $name\"\n",
    "#    sed -i \"s/>$geneid.*/>$name/g\" locus_0.txt.fasta.aln"
   ]
  },
  {
   "cell_type": "code",
   "execution_count": null,
   "metadata": {},
   "outputs": [],
   "source": [
    "#replace gene names with Species names in Test folder"
   ]
  },
  {
   "cell_type": "code",
   "execution_count": null,
   "metadata": {},
   "outputs": [],
   "source": [
    "%%script bash\n",
    "    cat ../uniqueSpeciesNicknames.csv | while read line;\n",
    "    do\n",
    "        mapfile -t my_array < <( for i in ${line//,/ }; do echo \"$i\"; done )\n",
    "        length=\"${#my_array[@]}\"\n",
    "        for (( j=2; j<length; j++ ))\n",
    "        do\n",
    "            geneid=\"${my_array[j]}\"\n",
    "            name=\"${my_array[1]}\"\n",
    "            echo \"Replacing $geneid with $name\"\n",
    "            for file in *; do sed -i \"s/>$geneid.*/>$name/g\" $file; done\n",
    "        done\n",
    "    done\n"
   ]
  },
  {
   "cell_type": "code",
   "execution_count": null,
   "metadata": {},
   "outputs": [],
   "source": [
    "#check that each species appears once per file, no output is good"
   ]
  },
  {
   "cell_type": "code",
   "execution_count": null,
   "metadata": {},
   "outputs": [],
   "source": [
    "%%script bash\n",
    "    cat ../uniqueSpeciesNicknames.csv | while read line;\n",
    "    do\n",
    "        mapfile -t my_array < <( for i in ${line//,/ }; do echo \"$i\"; done )\n",
    "        for file in *\n",
    "        do\n",
    "            count=$(grep -o \"${my_array[1]}\" $file | wc -l)\n",
    "            if [ $count != 1 ]\n",
    "            then\n",
    "                echo $file; echo ${my_array[1]}; echo $count\n",
    "            fi\n",
    "        done\n",
    "    done"
   ]
  },
  {
   "cell_type": "code",
   "execution_count": null,
   "metadata": {},
   "outputs": [],
   "source": [
    "os.chdir('../Test')\n",
    "!ls"
   ]
  },
  {
   "cell_type": "code",
   "execution_count": null,
   "metadata": {},
   "outputs": [],
   "source": [
    "##replace * and . characters in fasta files\n",
    "!for file in *; do sed -i 's/\\.//g' $file; done\n",
    "!for file in *; do sed -i 's/\\*//g' $file; done"
   ]
  },
  {
   "cell_type": "code",
   "execution_count": null,
   "metadata": {},
   "outputs": [],
   "source": [
    "#check that it worked\n",
    "!cat locus_1.txt.fasta.aln"
   ]
  },
  {
   "cell_type": "markdown",
   "metadata": {},
   "source": [
    "## STEP 4: Concatenate all good loci, run RAxML analysis\n"
   ]
  },
  {
   "cell_type": "code",
   "execution_count": null,
   "metadata": {},
   "outputs": [],
   "source": [
    "#make sure you are in the Test directory\n",
    "os.chdir (\"../\")\n",
    "os.chdir(\"Test\")\n",
    "!ls"
   ]
  },
  {
   "cell_type": "code",
   "execution_count": null,
   "metadata": {},
   "outputs": [],
   "source": [
    "#Shuffle sets of 100, 200, and 300 random Loci and store in new folders. \n",
    "#This is because depending on dataset we might have to use less loci than 200, or we might be able to use more.\n",
    "#os.mkdir(\"Shuffle_Set100\")\n",
    "os.mkdir(\"Shuffle_Set600\")\n",
    "os.mkdir(\"Shuffle_Set300\")\n",
    "#!cp $(ls *.aln | shuf -n 100) Shuffle_Set100\n",
    "!cp $(ls *.aln | shuf -n 600) Shuffle_Set600\n",
    "!cp $(ls *.aln | shuf -n 300) Shuffle_Set300"
   ]
  },
  {
   "cell_type": "code",
   "execution_count": null,
   "metadata": {},
   "outputs": [],
   "source": [
    "#Or just Shuffle all if you dont have a lot of loci\n",
    "os.mkdir(\"Shuffle_Set_all\")\n",
    "!cp *.aln Shuffle_Set_all"
   ]
  },
  {
   "cell_type": "code",
   "execution_count": null,
   "metadata": {},
   "outputs": [],
   "source": [
    "#Concatenate shuffle sets with catfasta2phyml.pl\n",
    "#!perl ../../catfasta2phyml.pl Shuffle_Set100/* > Shuffle_Set100.fa\n",
    "!perl ../../catfasta2phyml.pl Shuffle_Set600/* > Shuffle_Set600.fa\n",
    "!perl ../../catfasta2phyml.pl Shuffle_Set300/* > Shuffle_Set300.fa"
   ]
  },
  {
   "cell_type": "code",
   "execution_count": null,
   "metadata": {},
   "outputs": [],
   "source": [
    "!perl ../../catfasta2phyml.pl Shuffle_Set_all/* > Shuffle_Set_all.fa"
   ]
  },
  {
   "cell_type": "code",
   "execution_count": null,
   "metadata": {},
   "outputs": [],
   "source": [
    "#check ShuffleSet files\n",
    "!less Shuffle_Set300.fa"
   ]
  },
  {
   "cell_type": "code",
   "execution_count": null,
   "metadata": {},
   "outputs": [],
   "source": [
    "#copy ShuffleSets to Final Concatenated folder and run raxml. I could only get this to work with raxml-ng. Details: https://isu-molphyl.github.io/EEOB563/computer_labs/lab4/raxml-ng.html\n",
    "#os.mkdir(\"../FinalConcatenated\")\n",
    "#!cp Shuffle_Set_all.fa ../FinalConcatenated\n",
    "#!cp Shuffle_Set100.fa ../FinalConcatenated\n",
    "!cp Shuffle_Set600.fa ../FinalConcatenated\n",
    "!cp Shuffle_Set300.fa ../FinalConcatenated"
   ]
  },
  {
   "cell_type": "code",
   "execution_count": null,
   "metadata": {},
   "outputs": [],
   "source": [
    "os.chdir(\"../FinalConcatenated\")\n",
    "!ls"
   ]
  },
  {
   "cell_type": "code",
   "execution_count": null,
   "metadata": {},
   "outputs": [],
   "source": [
    "#check that the files were copied\n",
    "!head Shuffle_Set600.fa"
   ]
  },
  {
   "cell_type": "markdown",
   "metadata": {},
   "source": [
    "### Running & optimizing large alignments with raxml-ng\n",
    "#### Step 1: Load raxml-ng from terminal with command \n",
    "`module load raxml-ng/0.9.0`\n",
    "#### Step 2: Run raxml-ng in 'parse' mode first. Submit the following job in the terminal with your .fa or .phy file\n",
    "\n",
    "`bsub -q interactive -Is -W 1:00 -n 1 -R \"span[hosts=1]\" singularity exec $RAXMLNGIMG raxml-ng-mpi --msa Shuffle_Set200.fa --model JTT+G --parse --prefix parse200`\n",
    "\n",
    "* This will create a log file that you can check to see the optimized number of threads. It also has information about memory requirements.  \n",
    "* You can run parse on different numbers of concatenated loci (the different shuffle sets) to see what is best time-wise. You can possibly use more than 300 loci if there is a high percentage of invariant sites and a low number of species.\n",
    "* --model JTT+G specifies amino acid alignment. More detail [here](https://github.com/amkozlov/raxml-ng/wiki/Input-data).\n",
    "\n",
    "#### Step 3: Run raxml-ng with updated thread number\n",
    "\n",
    "* Once you know how many threads you want to use, change the numbers in the command below at '-n X' and '--threads X', where X equals your number of desired threads. I double checked with the ghpcc system admin people and this is the most efficient way to run the program. More detail [here](https://github.com/amkozlov/raxml-ng/wiki/Parallelization#so-how-many-threadscores-should-i-use).\n",
    "\n",
    "`bsub -q long -W 8:00 -n 32 -o \"raxml_job.out\" -e \"raxml_job.err\" -R \"span[hosts=1]\" -R \"rusage[mem=2000]\" singularity exec $RAXMLNGIMG raxml-ng-mpi --msa Shuffle_Set200.fa --model JTT+G --threads 32`\n",
    "\n",
    "#### Example runtimes:\n",
    "\n",
    "* For 200 concatenated Loci of Rutaceae (w/ 10 species), there were 92% invariant sites, 80MB for the estimated memory requirements and 11 threads recommended. I ran this on 1 thread with 2000MB and it only took 15 mins to complete. \n",
    "* For 100 concatenated Loci of Malvaceae (w/ 19 species), there were 60% invariant sites, 1000MB estimated memory and 39 threads recommended. This took 3 hours to complete on 32 threads.\n"
   ]
  },
  {
   "cell_type": "markdown",
   "metadata": {},
   "source": [
    "## Step 6: Looking at generated ML tree"
   ]
  },
  {
   "cell_type": "code",
   "execution_count": null,
   "metadata": {},
   "outputs": [],
   "source": [
    "#install toytree to look at trees in notebook\n",
    "!pip install toytree"
   ]
  },
  {
   "cell_type": "code",
   "execution_count": null,
   "metadata": {},
   "outputs": [],
   "source": [
    "os.chdir(\"../../Cucurbitaceae/FinalConcatenated\")\n",
    "!ls"
   ]
  },
  {
   "cell_type": "code",
   "execution_count": null,
   "metadata": {},
   "outputs": [],
   "source": [
    "import sys\n",
    "#tell python to look in your local folder for the newly installed packages\n",
    "sys.path.append('/home/ad32a/.local/lib/python3.6/site-packages')"
   ]
  },
  {
   "cell_type": "code",
   "execution_count": null,
   "metadata": {},
   "outputs": [],
   "source": [
    "#import the new packages to python\n",
    "import toytree\n",
    "import toyplot\n",
    "import numpy as np"
   ]
  },
  {
   "cell_type": "code",
   "execution_count": null,
   "metadata": {},
   "outputs": [],
   "source": [
    "#load in the new tree\n",
    "tre = toytree.tree(\"Shuffle_Set300.fa.raxml.bestTree\")\n",
    "#load in the new tree"
   ]
  },
  {
   "cell_type": "code",
   "execution_count": null,
   "metadata": {},
   "outputs": [],
   "source": [
    "#draw tree\n",
    "tre.unroot().write()"
   ]
  },
  {
   "cell_type": "code",
   "execution_count": null,
   "metadata": {},
   "outputs": [],
   "source": [
    "!cat Malvaceae_Shuffle_Set3.fa.raxml.bestTree"
   ]
  },
  {
   "cell_type": "code",
   "execution_count": null,
   "metadata": {},
   "outputs": [],
   "source": [
    "tre.draw(tip_labels_align=True, node_labels='support');"
   ]
  },
  {
   "cell_type": "code",
   "execution_count": null,
   "metadata": {},
   "outputs": [],
   "source": [
    "tre3 = toytree.tree(\"(((((Cor,Omo),(Tca,Hum)),Dzi),(Kae,Gwh)),((Gra,Ghi,Gda,Gla,Gto,Mba),(Gmu,Glo,Gtr,Gsc,Kab,Gar)));\")\n",
    "tre3.draw(tip_labels_align=True);"
   ]
  },
  {
   "cell_type": "code",
   "execution_count": null,
   "metadata": {},
   "outputs": [],
   "source": [
    "text_file = open(\"constraint.txt\", \"w\")\n",
    "n = text_file.write(\"(((((Cor,Omo),(Tca,Hum)),Dzi),(Kae,Gwh)),((Gra,Ghi,Gda,Gla,Gto,Mba),(Gmu,Glo,Gtr,Gsc,Kab,Gar)));\")\n",
    "text_file.close()"
   ]
  },
  {
   "cell_type": "code",
   "execution_count": null,
   "metadata": {},
   "outputs": [],
   "source": [
    "tre4 = toytree.tree(\"constraint.txt\")\n",
    "tre4.draw(tip_labels_align=True);"
   ]
  },
  {
   "cell_type": "code",
   "execution_count": null,
   "metadata": {},
   "outputs": [],
   "source": [
    "label_list = \"1\",\"2\",\"3\",\"4\",\"5\",\"6\",\"7\",\"8\",\"9\",\"10\",\"11\",\"12\",\"13\",\"14\",\"15\",\"16\",\"17\",\"18\",\"19\"\n",
    "tre.draw(tip_labels=label_list)"
   ]
  },
  {
   "cell_type": "code",
   "execution_count": null,
   "metadata": {},
   "outputs": [],
   "source": [
    "merged_df"
   ]
  },
  {
   "cell_type": "code",
   "execution_count": null,
   "metadata": {},
   "outputs": [],
   "source": [
    "label_list3 = \"Gossypium armourianum\",\"Gossypium barbadense\",\"Gossypium tomentosum\",\"Gossypium darwinii\",\"Gossypium lobatum\",\"Gossypium mustelinum\",\"Gossypium schwendimanii\", \"Gossypium arboreum\", \"Gossypium laxum\", \"Gossypium hirsutum\",\"Gossypium trilobum\", \"Gossypium aridum\" , \"Hibiscus cannabinus\", \"Hibiscus syriacus\", \"Durio zibethinus\", \"Corchorus capsularis\", \"Corchorus olitorius\",\"Herrania umbratica\",\"Theobroma cacao\" "
   ]
  },
  {
   "cell_type": "code",
   "execution_count": null,
   "metadata": {},
   "outputs": [],
   "source": [
    "tre.draw(tip_labels=True)"
   ]
  },
  {
   "cell_type": "code",
   "execution_count": null,
   "metadata": {},
   "outputs": [],
   "source": [
    "tre.draw(tip_labels=True)\n",
    "tre = tre.root(wildcard=\"Tca\") #root the tree\n",
    "tre.draw(tip_labels=label_list3)"
   ]
  },
  {
   "cell_type": "code",
   "execution_count": null,
   "metadata": {},
   "outputs": [],
   "source": [
    "canvas, axes, mark = tre.draw(width=700, height=500, tip_labels=True, tip_labels_align=True,use_edge_lengths=False)"
   ]
  },
  {
   "cell_type": "code",
   "execution_count": null,
   "metadata": {},
   "outputs": [],
   "source": [
    "label_list3 = \"Herrania umbratica\",\"Theobroma cacao\",\"Corchorus capsularis\",\"Corchorus olitorius\",\"Durio zibethinus\",\"Hibiscus cannabinus\",\"Hibiscus syriacus\",\"Gossypium aridum\",\"Gossypium armourianum\",\"Gossypium barbadense\",\"Gossypium tomentosum\",\"Gossypium darwinii\",\"Gossypium lobatum\",\"Gossypium mustelinum\",\"Gossypium schwendimanii\",\"Gossypium trilobum\",\"Gossypium arboreum\",\"Gossypium laxum\",\"Gossypium hirsutum\""
   ]
  },
  {
   "cell_type": "code",
   "execution_count": null,
   "metadata": {},
   "outputs": [],
   "source": [
    "import toyplot.pdf\n",
    "toyplot.pdf.render(canvas, \"Cucurbitaceae_Best_ML_tree.pdf\")"
   ]
  },
  {
   "cell_type": "code",
   "execution_count": null,
   "metadata": {},
   "outputs": [],
   "source": [
    "tre3 = toytree.tree(\"FINALTREE2.raxml.bestTree\")\n",
    "tre3.draw(tip_labels=True)\n",
    "canvas, axes, mark = tre3.draw(width=1400, height=500, tip_labels=True)"
   ]
  }
 ],
 "metadata": {
  "kernelspec": {
   "display_name": "Python 3 (ipykernel)",
   "language": "python",
   "name": "python3"
  },
  "language_info": {
   "codemirror_mode": {
    "name": "ipython",
    "version": 3
   },
   "file_extension": ".py",
   "mimetype": "text/x-python",
   "name": "python",
   "nbconvert_exporter": "python",
   "pygments_lexer": "ipython3",
   "version": "3.9.12"
  }
 },
 "nbformat": 4,
 "nbformat_minor": 2
}
